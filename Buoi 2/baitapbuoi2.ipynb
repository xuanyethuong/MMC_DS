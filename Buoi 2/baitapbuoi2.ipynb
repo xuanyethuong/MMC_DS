{
 "cells": [
  {
   "cell_type": "code",
   "execution_count": 13,
   "metadata": {},
   "outputs": [
    {
     "name": "stdin",
     "output_type": "stream",
     "text": [
      "Nhập vào số centimet:  100\n"
     ]
    },
    {
     "name": "stdout",
     "output_type": "stream",
     "text": [
      "Số inch tương đương là: 39.37\n",
      "Số feet tương đương là: 3.28\n"
     ]
    }
   ],
   "source": [
    "'''\n",
    "Question 1:\n",
    "Viết chương trình nhập vào một số thực. Đơn vị tính cho số này là centimet (cm). Hãy in ra\n",
    "số tương đương tính bằng foot (số thực, có 2 số lẻ thập phân) và inch (số thực, có 2 số lẻ\n",
    "thập phân). Với 1 inch = 2.54 cm và 1 foot = 12 inches\n",
    "'''\n",
    "def convert(x):\n",
    "        cm = float(x)  # Chuyển đổi giá trị nhập vào thành số thực\n",
    "        inch = cm / 2.54  # Chuyển đổi cm sang inch\n",
    "        feet = inch / 12  # Chuyển đổi inch sang feet\n",
    "        return inch, feet\n",
    "cm = input(\"Nhập vào số centimet: \")\n",
    "inches, feet = convert(cm)\n",
    "print(f\"Số inch tương đương là: {inches:.2f}\")\n",
    "print(f\"Số feet tương đương là: {feet:.2f}\")"
   ]
  },
  {
   "cell_type": "code",
   "execution_count": 21,
   "metadata": {},
   "outputs": [
    {
     "name": "stdin",
     "output_type": "stream",
     "text": [
      "Nhập số giây từ 0 đến 68399:  2000\n"
     ]
    },
    {
     "name": "stdout",
     "output_type": "stream",
     "text": [
      "Đổi số giây thành dạng [giờ:phút:giây] là 00:33:20\n"
     ]
    }
   ],
   "source": [
    "'''\n",
    "Question 2:\n",
    "Viết chương trình nhập vào số giây từ 0 tới 68399, đổi số giây này thành dạng\n",
    "[giờ:phút:giây], mỗi thành phần là một số nguyên có 2 chữ số.\n",
    "Ví dụ: 02:11:05\n",
    "'''\n",
    "def convert_to_time(seconds):\n",
    "    hours = seconds // 3600\n",
    "    minutes = (seconds % 3600) // 60\n",
    "    seconds = seconds % 60\n",
    "    return hours, minutes, seconds\n",
    "# Nhập số giây từ người dùng\n",
    "while True:\n",
    "    try:\n",
    "        seconds = int(input(\"Nhập số giây từ 0 đến 68399: \"))\n",
    "        if 0 <= seconds <= 68399:\n",
    "            break\n",
    "        else:\n",
    "            print(\"Vui lòng nhập số giây từ 0 đến 68399.\")\n",
    "    except ValueError:\n",
    "        print(\"Vui lòng nhập một số nguyên.\")\n",
    "hour, minute, second = convert_to_time(seconds)\n",
    "print(f\"Đổi số giây thành dạng [giờ:phút:giây] là {hour:02d}:{minute:02d}:{second:02d}\")\n",
    "\n"
   ]
  },
  {
   "cell_type": "markdown",
   "metadata": {},
   "source": [
    " là: 1"
   ]
  },
  {
   "cell_type": "code",
   "execution_count": 22,
   "metadata": {},
   "outputs": [
    {
     "name": "stdin",
     "output_type": "stream",
     "text": [
      "Nhập số thứ nhất:  2\n",
      "Nhập số thứ hai:  3\n",
      "Nhập số thứ ba:  4\n",
      "Nhập số thứ tư:  5\n"
     ]
    },
    {
     "name": "stdout",
     "output_type": "stream",
     "text": [
      "Số lớn nhất là: 5\n",
      "Số nhỏ nhất là: 2\n"
     ]
    }
   ],
   "source": [
    "'''\n",
    "Question 3:\n",
    "Viết chương trình nhập vào 4 số nguyên.\n",
    "Hiển thị ra số lớn nhất và nhỏ nhất\n",
    "Ví dụ:\n",
    "nhập vào 4 số 1,2,3,4 thì kết quả là:\n",
    "Số lớn nhất là: 4\n",
    "Số nhỏ nhất là: 1\n",
    "'''\n",
    "# Nhập vào 4 số nguyên từ người dùng\n",
    "num1 = int(input(\"Nhập số thứ nhất: \"))\n",
    "num2 = int(input(\"Nhập số thứ hai: \"))\n",
    "num3 = int(input(\"Nhập số thứ ba: \"))\n",
    "num4 = int(input(\"Nhập số thứ tư: \"))\n",
    "\n",
    "# Tìm số lớn nhất và số nhỏ nhất\n",
    "max_num = max(num1, num2, num3, num4)\n",
    "min_num = min(num1, num2, num3, num4)\n",
    "\n",
    "# Hiển thị kết quả\n",
    "print(\"Số lớn nhất là:\", max_num)\n",
    "print(\"Số nhỏ nhất là:\", min_num)\n",
    "    "
   ]
  },
  {
   "cell_type": "code",
   "execution_count": 24,
   "metadata": {},
   "outputs": [
    {
     "name": "stdin",
     "output_type": "stream",
     "text": [
      "Nhập số thứ 1:  2\n",
      "Nhập số thứ 2:  4\n",
      "Nhập số thứ 3:  1\n",
      "Nhập số thứ 4:  7\n"
     ]
    },
    {
     "name": "stdout",
     "output_type": "stream",
     "text": [
      "Mảng gồm 4 số: [2, 4, 1, 7]\n",
      "Số lớn nhất là: 7\n",
      "Số nhỏ nhất là: 1\n"
     ]
    }
   ],
   "source": [
    "# Khởi tạo một mảng rỗng\n",
    "numbers = []\n",
    "\n",
    "# Nhập 4 số từ người dùng và thêm vào mảng\n",
    "for i in range(4):\n",
    "    num = int(input(f\"Nhập số thứ {i+1}: \"))\n",
    "    numbers.append(num)\n",
    "  \n",
    "# In ra mảng vừa nhập\n",
    "print(\"Mảng gồm 4 số:\", numbers)\n",
    "print (\"Số lớn nhất là:\", max(numbers))\n",
    "print (\"Số nhỏ nhất là:\", min(numbers))\n"
   ]
  },
  {
   "cell_type": "code",
   "execution_count": 26,
   "metadata": {},
   "outputs": [
    {
     "name": "stdin",
     "output_type": "stream",
     "text": [
      "Nhập số thứ nhất a:  7\n",
      "Nhập số thứ hai b:  1\n"
     ]
    },
    {
     "name": "stdout",
     "output_type": "stream",
     "text": [
      "Số thứ nhất lớn hơn số thứ hai\n"
     ]
    }
   ],
   "source": [
    "'''\n",
    "Question 4:\n",
    "Nhập vào hai số tự nhiên a và b. Tính hiệu của hai số đó.\n",
    "Nếu hiệu số lớn hơn 0 thì in ra dòng chữ [Số thứ nhất lớn hơn số thứ hai].\n",
    "Nếu hiệu số nhỏ hơn 0 thì in ra dòng chữ [Số thứ nhất nhỏ hơn số thứ hai].\n",
    "'''\n",
    "a = int(input(\"Nhập số thứ nhất a: \"))\n",
    "b = int(input(\"Nhập số thứ hai b: \"))\n",
    "difference = a - b\n",
    "if difference > 0 :\n",
    "    print (\"Số thứ nhất lớn hơn số thứ hai\")\n",
    "else :\n",
    "    print (\"Số thứ nhất nhỏ hơn số thứ hai\")"
   ]
  },
  {
   "cell_type": "markdown",
   "metadata": {},
   "source": [
    "g"
   ]
  },
  {
   "cell_type": "code",
   "execution_count": 32,
   "metadata": {},
   "outputs": [
    {
     "name": "stdin",
     "output_type": "stream",
     "text": [
      "Nhập số thứ nhất a:  5\n",
      "Nhập số thứ hai b:  10\n"
     ]
    },
    {
     "name": "stdout",
     "output_type": "stream",
     "text": [
      "a không chia hết cho b\n"
     ]
    }
   ],
   "source": [
    "'''\n",
    "Question 5:\n",
    "Nhập vào 2 số tự nhiên a và b. Kiểm tra xem a có chia hết cho b không\n",
    "'''\n",
    "a = int(input(\"Nhập số thứ nhất a: \"))\n",
    "b = int(input(\"Nhập số thứ hai b: \"))\n",
    "div = a % b\n",
    "if div == 0:\n",
    "    print (\"a chia hết cho b\")\n",
    "else :\n",
    "    print(\"a không chia hết cho b\")   \n",
    "\n"
   ]
  },
  {
   "cell_type": "markdown",
   "metadata": {},
   "source": [
    "của học sinh"
   ]
  },
  {
   "cell_type": "code",
   "execution_count": 31,
   "metadata": {},
   "outputs": [
    {
     "name": "stdin",
     "output_type": "stream",
     "text": [
      "Nhập điểm môn Toán:  7\n",
      "Nhập điểm môn Lý:  8\n",
      "Nhập điểm môn Hóa:  9\n"
     ]
    },
    {
     "name": "stdout",
     "output_type": "stream",
     "text": [
      "Điểm trung bình:  7.75\n",
      "Bạn có học lực Loại khá\n"
     ]
    }
   ],
   "source": [
    "'''\n",
    "Question 6:\n",
    "Xếp loại sinh viên theo các quy luật dưới đây:\n",
    "- Nếu điểm >= 9.0 - Loại xuất sắc- Nếu 8.0<= điểm < 9.0 - Loại giỏi\n",
    "- Nếu 7.0<= điểm < 8.0 - Loại khá\n",
    "- Nếu 6.0 <= điểm < 7.0 - Loại trung bình khá\n",
    "- Nếu 5.0 <= điểm < 6.0 - Loại trung bình\n",
    "- Nếu điểm < 5.0 - Loại kém\n",
    "Với điểm = ( (điểm toán)*2 + điểm lý + điểm hóa )/4\n",
    "Viết Chương trình:\n",
    "a. Nhập vào điểm 3 môn học\n",
    "b. Tính điểm trung bình\n",
    "c. Xác định học lực của học sinh dựa trên điểm trung bình\n",
    "d. Hiển thị học lực của học sinh\n",
    "'''\n",
    "Toan = 0\n",
    "Ly = 0\n",
    "Hoa = 0\n",
    "mean_point = 0.0\n",
    "level = \"\"\n",
    "def nhapdiem():\n",
    "    global Toan, Ly, Hoa\n",
    "    Toan = float(input(\"Nhập điểm môn Toán: \"))\n",
    "    Ly = float(input(\"Nhập điểm môn Lý: \"))\n",
    "    Hoa = float(input(\"Nhập điểm môn Hóa: \"))\n",
    "def diemtrungbinh():\n",
    "    global mean_point\n",
    "    mean_point = ((Toan * 2) + Ly + Hoa)/4\n",
    "    print(\"Điểm trung bình: \", mean_point)\n",
    "def xeploai():\n",
    "    global level\n",
    "    if (mean_point >= 9.0):\n",
    "        level = \"Xuất sắc\"\n",
    "    elif (8.0 <= mean_point < 9.0):\n",
    "        level = \"Loại giỏi\" \n",
    "    elif  (7.0 <= mean_point < 8.0):\n",
    "        level = \"Loại khá\" \n",
    "    elif  (6.0<= mean_point < 7.0):\n",
    "        level = \"Loại trung bình khá\"\n",
    "    elif  (5.0<= mean_point < 6.0):\n",
    "        level = \"Loại trung bình\"\n",
    "    else: \n",
    "        level = \"Loại kém\"\n",
    "    print(\"Bạn có học lực\", level)\n",
    "nhapdiem()\n",
    "diemtrungbinh()\n",
    "xeploai()\n",
    "\n",
    "       "
   ]
  },
  {
   "cell_type": "markdown",
   "metadata": {},
   "source": [
    "Excersie 2"
   ]
  },
  {
   "cell_type": "markdown",
   "metadata": {},
   "source": [
    "32"
   ]
  },
  {
   "cell_type": "code",
   "execution_count": 30,
   "metadata": {},
   "outputs": [
    {
     "name": "stdin",
     "output_type": "stream",
     "text": [
      "Nhập vào số nguyên:  6789\n"
     ]
    },
    {
     "name": "stdout",
     "output_type": "stream",
     "text": [
      "giá trị từng chữ số: 6\n",
      "giá trị từng chữ số: 7\n",
      "giá trị từng chữ số: 8\n",
      "giá trị từng chữ số: 9\n",
      "Tổng các chữ số cộng lại bằng: 30\n"
     ]
    }
   ],
   "source": [
    "'''\n",
    "Question 1:\n",
    "Hãy viết chương trình tính tổng các chữ số của một số nguyên bất kỳ.\n",
    "Ví dụ: Số 8545604 có tổng các chữ số là: 8+5+4+5+6+0+4= 32\n",
    "'''\n",
    "def sum_func(m):\n",
    "    total = 0\n",
    "    for digit in str(m):\n",
    "        total += int(digit)\n",
    "        print(\"giá trị từng chữ số:\",digit)\n",
    "    return total\n",
    "\n",
    "num = int(input(\"Nhập vào số nguyên: \"))\n",
    "total = sum_func(num)\n",
    "print(\"Tổng các chữ số cộng lại bằng:\", total)"
   ]
  },
  {
   "cell_type": "code",
   "execution_count": null,
   "metadata": {},
   "outputs": [],
   "source": [
    " 7"
   ]
  },
  {
   "cell_type": "code",
   "execution_count": 29,
   "metadata": {},
   "outputs": [
    {
     "name": "stdin",
     "output_type": "stream",
     "text": [
      "Nhập vào số nguyên:  8\n"
     ]
    },
    {
     "name": "stdout",
     "output_type": "stream",
     "text": [
      "Số... 8 được phân tích thành các thừa số nguyên tố: 2 x 2 x 2\n"
     ]
    }
   ],
   "source": [
    "'''\n",
    "Question 2:\n",
    "Viết chương trình phân tích một số nguyên thành các thừa số nguyên tố\n",
    "Ví dụ: Số 28 được phân tích thành 2 x 2 x\n",
    "''' \n",
    "def phantich_songuyento (x):\n",
    "    factors = []  # Danh sách chứa các thừa số nguyên tố\n",
    "    divisor = 2    # Bắt đầu với thử số nguyên tố đầu tiên là 2\n",
    "    while x > 1:   # Khi n còn lớn hơn 1\n",
    "        while x % divisor == 0:  # Nếu divisor là một thừa số nguyên tố của n\n",
    "            factors.append(divisor)  # Thêm divisor vào danh sách thừa số\n",
    "            x //= divisor   # Chia n cho divisor\n",
    "        divisor += 1   # Chuyển sang thử divisor tiếp theo\n",
    "    return factors\n",
    "def inthongbao(x,factors):\n",
    "    if len(songuyento) == 0:\n",
    "        print(\"Số\", x, \"không có thừa số nguyên tố.\")\n",
    "    else:\n",
    "        print(\"Số...\", x, \"được phân tích thành các thừa số nguyên tố:\", \" x \".join(map(str, factors)))\n",
    "        \n",
    "num = int(input(\"Nhập vào số nguyên: \"))\n",
    "inthongbao(num,phantich_songuyento(num))\n",
    "\n"
   ]
  },
  {
   "cell_type": "code",
   "execution_count": 36,
   "metadata": {},
   "outputs": [
    {
     "name": "stdin",
     "output_type": "stream",
     "text": [
      "Nhập số nguyên n:  8\n"
     ]
    },
    {
     "name": "stdout",
     "output_type": "stream",
     "text": [
      "Các số nguyên tố nhỏ hơn 8 là:\n",
      "[2, 3, 5, 7]\n"
     ]
    }
   ],
   "source": [
    "'''\n",
    "Question 3:\n",
    "Viết chương trình liệt kê tất cả các số nguyên tố nhỏ hơn n cho trước.\n",
    "'''\n",
    "def kiem_tra_nguyen_to(num):\n",
    "    if num < 2:\n",
    "        return False\n",
    "    for i in range(2, int(num ** 0.5) + 1):\n",
    "        if num % i == 0:\n",
    "            return False\n",
    "    return True\n",
    "\n",
    "def liet_ke_so_nguyen_to(n):\n",
    "    primes = []\n",
    "    for num in range(2, n):\n",
    "        if kiem_tra_nguyen_to(num):\n",
    "            primes.append(num)\n",
    "    return primes\n",
    "\n",
    "# Nhập số nguyên từ người dùng\n",
    "number = int(input(\"Nhập số nguyên n: \"))\n",
    "\n",
    "# Liệt kê và in ra các số nguyên tố nhỏ hơn n\n",
    "print(\"Các số nguyên tố nhỏ hơn\", number, \"là:\")\n",
    "print(liet_ke_so_nguyen_to(number))\n",
    "\n"
   ]
  },
  {
   "cell_type": "code",
   "execution_count": 38,
   "metadata": {},
   "outputs": [
    {
     "name": "stdin",
     "output_type": "stream",
     "text": [
      "Nhập số nguyên n:  5\n"
     ]
    },
    {
     "name": "stdout",
     "output_type": "stream",
     "text": [
      "Các số nguyên tố đầu tiên là:\n",
      "[2, 3, 5, 7, 11]\n"
     ]
    }
   ],
   "source": [
    "'''\n",
    "Question 4:\n",
    "Viết chương trình liệt kê n số nguyên tố đầu tiên.\n",
    "'''\n",
    "def kiem_tra_nguyen_to(num):\n",
    "    if num < 2:\n",
    "        return False\n",
    "    for i in range(2, int(num ** 0.5) + 1):\n",
    "        if num % i == 0:\n",
    "            return False\n",
    "    return True\n",
    "\n",
    "def liet_ke_so_nguyen_to_dau_tien(n):\n",
    "    primes = []\n",
    "    num = 2\n",
    "    while len(primes) < n:\n",
    "        if kiem_tra_nguyen_to(num):\n",
    "            primes.append(num)\n",
    "        num += 1\n",
    "    return primes\n",
    "\n",
    "# Nhập số nguyên từ người dùng\n",
    "n = int(input(\"Nhập số nguyên n: \"))\n",
    "\n",
    "# Liệt kê và in ra n số nguyên tố đầu tiên\n",
    "print(\"Các số nguyên tố đầu tiên là:\")\n",
    "print(liet_ke_so_nguyen_to_dau_tien(n))\n"
   ]
  },
  {
   "cell_type": "code",
   "execution_count": 39,
   "metadata": {},
   "outputs": [
    {
     "name": "stdin",
     "output_type": "stream",
     "text": [
      "Nhập số nguyên a:  19\n",
      "Nhập số nguyên b:  8\n"
     ]
    },
    {
     "name": "stdout",
     "output_type": "stream",
     "text": [
      "Ước số chung lớn nhất của 19 và 8 là: 1\n",
      "Bội số chung nhỏ nhất của 19 và 8 là: 152\n"
     ]
    }
   ],
   "source": [
    "'''\n",
    "Question 5:\n",
    "Viết chương trình tìm ước số chung lớn nhất, bội số chung nhỏ nhất của hai số tự nhiên a và b.\n",
    "'''\n",
    "def uoc_so_chung_lon_nhat(a, b):\n",
    "    while b:\n",
    "        a, b = b, a % b\n",
    "    return a\n",
    "\n",
    "def boi_so_chung_nho_nhat(a, b):\n",
    "    return a * b // uoc_so_chung_lon_nhat(a, b)\n",
    "\n",
    "# Nhập hai số nguyên từ người dùng\n",
    "a = int(input(\"Nhập số nguyên a: \"))\n",
    "b = int(input(\"Nhập số nguyên b: \"))\n",
    "\n",
    "# Tính và in ra ước số chung lớn nhất và bội số chung nhỏ nhất\n",
    "ucln = uoc_so_chung_lon_nhat(a, b)\n",
    "bscnn = boi_so_chung_nho_nhat(a, b)\n",
    "print(\"Ước số chung lớn nhất của\", a, \"và\", b, \"là:\", ucln)\n",
    "print(\"Bội số chung nhỏ nhất của\", a, \"và\", b, \"là:\", bscnn)"
   ]
  },
  {
   "cell_type": "code",
   "execution_count": 40,
   "metadata": {},
   "outputs": [
    {
     "name": "stdin",
     "output_type": "stream",
     "text": [
      "Nhập số nguyên dương n:  6\n"
     ]
    },
    {
     "name": "stdout",
     "output_type": "stream",
     "text": [
      "Số Fibonacci thứ 6 là: 8\n"
     ]
    }
   ],
   "source": [
    "'''\n",
    "Question 6:\n",
    "Dãy số Fibonacci được định nghĩa như sau:\n",
    "F0 =1, F1 = 1; Fn = Fn-1 + Fn-2 với n>=2.\n",
    "Hãy viết chương trình tìm số Fibonacci thứ n.\n",
    "'''\n",
    "def fibonacci(n):\n",
    "    if n <= 1:\n",
    "        return n\n",
    "    fib_prev, fib_curr = 0, 1\n",
    "    for _ in range(2, n + 1):\n",
    "        fib_prev, fib_curr = fib_curr, fib_prev + fib_curr\n",
    "    return fib_curr\n",
    "\n",
    "# Nhập số nguyên dương n từ người dùng\n",
    "n = int(input(\"Nhập số nguyên dương n: \"))\n",
    "\n",
    "# Tìm và in ra số Fibonacci thứ n\n",
    "print(\"Số Fibonacci thứ\", n, \"là:\", fibonacci(n))"
   ]
  },
  {
   "cell_type": "code",
   "execution_count": 41,
   "metadata": {},
   "outputs": [
    {
     "name": "stdin",
     "output_type": "stream",
     "text": [
      "Nhập số nguyên dương n:  9\n"
     ]
    },
    {
     "name": "stdout",
     "output_type": "stream",
     "text": [
      "Các số Fibonacci nhỏ hơn 9 là số nguyên tố:\n",
      "2\n",
      "3\n",
      "5\n"
     ]
    }
   ],
   "source": [
    "'''\n",
    "Question 7:\n",
    "Nhập một số tự nhiên n.\n",
    "Hãy liệt kê các số Fibonaci nhỏ hơn n là số nguyên tố\n",
    "'''\n",
    "def kiem_tra_nguyen_to(num):\n",
    "    if num < 2:\n",
    "        return False\n",
    "    for i in range(2, int(num ** 0.5) + 1):\n",
    "        if num % i == 0:\n",
    "            return False\n",
    "    return True\n",
    "\n",
    "def fibonacci(n):\n",
    "    fib_sequence = [0, 1]\n",
    "    while True:\n",
    "        next_fib = fib_sequence[-1] + fib_sequence[-2]\n",
    "        if next_fib >= n:\n",
    "            break\n",
    "        fib_sequence.append(next_fib)\n",
    "    return fib_sequence\n",
    "\n",
    "# Nhập số nguyên dương n từ người dùng\n",
    "n = int(input(\"Nhập số nguyên dương n: \"))\n",
    "\n",
    "# Liệt kê và in ra các số Fibonacci nhỏ hơn n là số nguyên tố\n",
    "fibonacci_numbers = fibonacci(n)\n",
    "print(\"Các số Fibonacci nhỏ hơn\", n, \"là số nguyên tố:\")\n",
    "for fib_num in fibonacci_numbers:\n",
    "    if kiem_tra_nguyen_to(fib_num):\n",
    "        print(fib_num)"
   ]
  },
  {
   "cell_type": "code",
   "execution_count": 42,
   "metadata": {},
   "outputs": [
    {
     "name": "stdin",
     "output_type": "stream",
     "text": [
      "Nhập số nguyên dương n:  12\n"
     ]
    },
    {
     "name": "stdout",
     "output_type": "stream",
     "text": [
      "Tổng các chữ số của 12 là: 3\n",
      "Phân tích 12 thành các thừa số nguyên tố là: [2, 2, 3]\n"
     ]
    }
   ],
   "source": [
    "'''\n",
    "Question 8:\n",
    "Viết chương trình nhập một số nguyên dương n và thực hiện các chức năng sau:\n",
    "a) Tính tổng các chữ số của n.\n",
    "b) Phân tích n thành các thừa số nguyên tố.\n",
    "'''\n",
    "def tinh_tong_chu_so(n):\n",
    "    total = 0\n",
    "    while n > 0:\n",
    "        total += n % 10\n",
    "        n //= 10\n",
    "    return total\n",
    "\n",
    "def phan_tich_thua_so_nguyen_to(n):\n",
    "    factors = []\n",
    "    divisor = 2\n",
    "    while n > 1:\n",
    "        if n % divisor == 0:\n",
    "            factors.append(divisor)\n",
    "            n //= divisor\n",
    "        else:\n",
    "            divisor += 1\n",
    "    return factors\n",
    "\n",
    "# Nhập số nguyên dương n từ người dùng\n",
    "n = int(input(\"Nhập số nguyên dương n: \"))\n",
    "\n",
    "# Tính và in ra tổng các chữ số của n\n",
    "tong_chu_so = tinh_tong_chu_so(n)\n",
    "print(\"Tổng các chữ số của\", n, \"là:\", tong_chu_so)\n",
    "\n",
    "# Phân tích n thành các thừa số nguyên tố và in ra kết quả\n",
    "print(\"Phân tích\", n, \"thành các thừa số nguyên tố là:\", phan_tich_thua_so_nguyen_to(n))"
   ]
  },
  {
   "cell_type": "code",
   "execution_count": 43,
   "metadata": {},
   "outputs": [
    {
     "name": "stdin",
     "output_type": "stream",
     "text": [
      "Nhập số nguyên dương n:  12\n"
     ]
    },
    {
     "name": "stdout",
     "output_type": "stream",
     "text": [
      "Các ước số của 12 là: [1, 2, 3, 4, 6, 12]\n",
      "Số lượng ước số của 12 là: 6\n",
      "Các ước số nguyên tố của 12 là: [2, 3]\n"
     ]
    }
   ],
   "source": [
    "'''\n",
    "Question 9:\n",
    "Viết chương trình nhập một số nguyên dương n và thực hiện các chức năng sau:\n",
    "a) Liệt kê các ước số của n. Có bao nhiêu ước số.\n",
    "b) Liệt kê các ước số là nguyên tố của n\n",
    "'''\n",
    "def tim_uoc_so(n):\n",
    "    uoc_so = []\n",
    "    for i in range(1, n + 1):\n",
    "        if n % i == 0:\n",
    "            uoc_so.append(i)\n",
    "    return uoc_so\n",
    "\n",
    "def kiem_tra_nguyen_to(num):\n",
    "    if num < 2:\n",
    "        return False\n",
    "    for i in range(2, int(num ** 0.5) + 1):\n",
    "        if num % i == 0:\n",
    "            return False\n",
    "    return True\n",
    "\n",
    "def uoc_so_nguyen_to(n):\n",
    "    uoc_so_nguyen_to = []\n",
    "    uoc_so = tim_uoc_so(n)\n",
    "    for num in uoc_so:\n",
    "        if kiem_tra_nguyen_to(num):\n",
    "            uoc_so_nguyen_to.append(num)\n",
    "    return uoc_so_nguyen_to\n",
    "\n",
    "# Nhập số nguyên dương n từ người dùng\n",
    "n = int(input(\"Nhập số nguyên dương n: \"))\n",
    "\n",
    "# Liệt kê và đếm số lượng ước số của n\n",
    "uoc_so = tim_uoc_so(n)\n",
    "print(\"Các ước số của\", n, \"là:\", uoc_so)\n",
    "print(\"Số lượng ước số của\", n, \"là:\", len(uoc_so))\n",
    "\n",
    "# Liệt kê các ước số nguyên tố của n\n",
    "uoc_so_nguyen_to = uoc_so_nguyen_to(n)\n",
    "print(\"Các ước số nguyên tố của\", n, \"là:\", uoc_so_nguyen_to)"
   ]
  },
  {
   "cell_type": "code",
   "execution_count": 45,
   "metadata": {},
   "outputs": [
    {
     "name": "stdin",
     "output_type": "stream",
     "text": [
      "Nhập xâu ký tự:  ae456 hjj\n"
     ]
    },
    {
     "name": "stdout",
     "output_type": "stream",
     "text": [
      "Xâu sau khi chuẩn hoá: Ae456 Hjj\n"
     ]
    }
   ],
   "source": [
    "'''\n",
    "Question 10:\n",
    "Viết chương trình thực hiện chuẩn hoá một xâu ký tự nhập từ bàn phím (loại bỏ các dấu\n",
    "cách thừa, chuyển ký tự đầu mỗi từ thành chữ hoa, các ký tự khác thành chữ thường)\n",
    "'''\n",
    "def chuan_hoa_xau(xau):\n",
    "    xau_chuan_hoa = \"\"\n",
    "    xau = xau.strip()  # Loại bỏ dấu cách thừa ở đầu và cuối xâu\n",
    "    words = xau.split()  # Tách xâu thành các từ\n",
    "    for i in range(len(words)):\n",
    "        word = words[i]\n",
    "        if i > 0:\n",
    "            xau_chuan_hoa += \" \"  # Thêm một dấu cách trước từ mới nếu không phải từ đầu tiên\n",
    "        xau_chuan_hoa += word.capitalize()  # Chuyển chữ đầu mỗi từ thành chữ hoa\n",
    "    return xau_chuan_hoa\n",
    "\n",
    "# Nhập xâu ký tự từ người dùng\n",
    "xau = input(\"Nhập xâu ký tự: \")\n",
    "\n",
    "# Chuẩn hoá xâu và in ra kết quả\n",
    "xau_chuan_hoa = chuan_hoa_xau(xau)\n",
    "print(\"Xâu sau khi chuẩn hoá:\", xau_chuan_hoa)"
   ]
  },
  {
   "cell_type": "code",
   "execution_count": null,
   "metadata": {},
   "outputs": [],
   "source": []
  }
 ],
 "metadata": {
  "kernelspec": {
   "display_name": "Python 3 (ipykernel)",
   "language": "python",
   "name": "python3"
  },
  "language_info": {
   "codemirror_mode": {
    "name": "ipython",
    "version": 3
   },
   "file_extension": ".py",
   "mimetype": "text/x-python",
   "name": "python",
   "nbconvert_exporter": "python",
   "pygments_lexer": "ipython3",
   "version": "3.12.2"
  }
 },
 "nbformat": 4,
 "nbformat_minor": 4
}
