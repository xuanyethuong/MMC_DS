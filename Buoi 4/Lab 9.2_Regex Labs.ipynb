{
 "cells": [
  {
   "cell_type": "code",
   "execution_count": 11,
   "metadata": {
    "id": "t4OsxGef9X-D"
   },
   "outputs": [],
   "source": [
    "import re"
   ]
  },
  {
   "cell_type": "markdown",
   "metadata": {
    "id": "O3v41x8r9kM1"
   },
   "source": [
    "**Bài 1:** Mở file Ex1.py và hoàn thành đoạn code để lấy các dòng được bắt đầu bằng ký tự \">\", kết quả sau khi chạy sẽ như sau:\n",
    "\n",
    "```['>Venues', '>Marketing', '>medalists', '>Controversies', '>Paralympics', '>snowboarding', '>Netherlands', '>Norway', '>References', '>edit', '>Norway', '>Germany', '>Canada', '>Netherlands', '>Japan', '>Italy', '>Belarus', '>China', '>Slovakia', '>Slovenia', '>Belgium', '>Spain', '>Kazakhstan', '>1964', '>1968', '>1972', '>1992', '>1996', '>2000']```"
   ]
  },
  {
   "cell_type": "code",
   "execution_count": 4,
   "metadata": {},
   "outputs": [
    {
     "name": "stdout",
     "output_type": "stream",
     "text": [
      "['>Venues', '>Marketing', '>medalists', '>Controversies', '>Paralympics', '>snowboarding', '>[1]', '>Netherlands', '>[2]', '>Norway', '>[10]', '>[11]', '>References', '>edit', '>[12]', '>Norway', '>Germany', '>Canada', '>Netherlands', '>Japan', '>Italy', '>Belarus', '>China', '>Slovakia', '>Slovenia', '>Belgium', '>Spain', '>Kazakhstan', '>[15]', '>1964', '>1968', '>1972', '>1992', '>1996', '>2000\"\"\"']\n"
     ]
    }
   ],
   "source": [
    "# Mở file\n",
    "with open('Ex1.py', 'r') as file:\n",
    "    # Đọc từng dòng của file\n",
    "    lines = file.readlines()\n",
    "    # Lọc ra các dòng bắt đầu bằng \">\"\n",
    "    filtered_lines = [line.strip() for line in lines if line.startswith(\">\")]\n",
    "    # In kết quả\n",
    "    print(filtered_lines)"
   ]
  },
  {
   "cell_type": "code",
   "execution_count": 16,
   "metadata": {
    "id": "Vjx0qQZc9gc4"
   },
   "outputs": [
    {
     "name": "stdout",
     "output_type": "stream",
     "text": [
      "['', '', '', '', '', '', '', '', '', '', '', '', '', '', '', '', '', '', '', '', '', '', '', '', '', '', '', '', '', '', '', '', '', '', '', '', '', '', '', '', '', '', '', '', '', '', '', '', '', '', '', '', '', '', '', '', '', '', '', '', '', '', '', '', '', '', '', '', '', '', '', '', '', '', '', '', '', '', '', '', '', '', '', '', '', '', '', '', '', '', '', '', '', '', '', '', '', '', '', '', '', '', '', '', '', '', '', '', '', '', '', '', '', '', '', '', '', '', '', '', '', '', '', '', '', '', '', '', '', '', '', '', '', '', '', '', '', '', '', '', '', '', '', '', '', '', '', '', '', '', '', '', '', '', '', '', '', '', '', '', '', '', '', '', '', '', '', '', '', '', '', '', '', '', '', '', '', '', '', '', '', '', '', '', '', '', '', '', '', '', '', '', '', '', '', '', '', '', '', '', '', '', '', '', '', '', '', '', '', '', '', '', '', '', '', '', '', '', '', '', '', '', '', '', '', '', '', '', '', '', '', '', '', '', '', '', '', '', '', '', '', '', '', '', '', '', '', '', '', '', '', '', '', '', '', '', '', '', '', '', '', '', '', '', '', '', '', '', '', '', '', '', '', '', '', '', '', '', '', '', '', '', '', '', '', '', '', '', '', '', '', '', '', '', '', '', '', '', '', '', '', '', '', '', '', '', '', '', '', '', '', '', '', '', '', '', '', '', '', '']\n"
     ]
    }
   ],
   "source": [
    "str=\"\"\"\n",
    ">Venues\n",
    ">Marketing\n",
    ">medalists\n",
    ">Controversies\n",
    ">Paralympics\n",
    ">snowboarding\n",
    ">[1]\n",
    ">Netherlands\n",
    ">[2]\n",
    ">Norway\n",
    ">[10]\n",
    ">[11]\n",
    ">References\n",
    ">edit\n",
    ">[12]\n",
    ">Norway\n",
    ">Germany\n",
    ">Canada\n",
    ">Netherlands\n",
    ">Japan\n",
    ">Italy\n",
    ">Belarus\n",
    ">China\n",
    ">Slovakia\n",
    "<$#%#$%\n",
    "<#$#$$\n",
    "<**&&^^\n",
    ">Slovenia\n",
    ">Belgium\n",
    ">Spain\n",
    ">Kazakhsta\n",
    ">[15]\n",
    ">1964\n",
    ">1968\n",
    ">1972\n",
    ">1992\n",
    ">1996\n",
    ">2000\"\"\"\n",
    "\n",
    "#Type your answer here.\n",
    "data = re.findall('', str,)\n",
    "print(data)\n"
   ]
  },
  {
   "cell_type": "markdown",
   "metadata": {
    "id": "DfaRsco59lvM"
   },
   "source": [
    "**Bài 2:** Mở file Ex2.py và hoàn thành đoạn code để lấy được các email có trong chuỗi đó. Kết quả sau khi chạy sẽ như sau:\n",
    "\n",
    "```['franky@google.com', 'sinatra123@yahoo.com']```"
   ]
  },
  {
   "cell_type": "code",
   "execution_count": 22,
   "metadata": {
    "id": "QZqnaFzl9nKc",
    "scrolled": true
   },
   "outputs": [
    {
     "name": "stdout",
     "output_type": "stream",
     "text": [
      "['franky@google.com', 'sinatra123@yahoo.com']\n"
     ]
    }
   ],
   "source": [
    "str='The advancements in biomarine studies franky@google.com with the investments necessary and Davos sinatra123@yahoo.com Then The New Yorker article on wind farms...'\n",
    "#Type your answer here.\n",
    "\n",
    "regex= r'\\b[A-Za-z0-9._%+-]+@[A-Za-z0-9.-]+\\.[A-Z|a-z]{2,}\\b'\n",
    "emails=re.findall(regex, str)\n",
    "print(emails)\n",
    "with open('Ex2.py', 'a+') as testwritefile:\n",
    "    for i in emails:\n",
    "        testwritefile.write(i +\"\\n\" )       "
   ]
  },
  {
   "cell_type": "markdown",
   "metadata": {
    "id": "Ko0Xt2bQ9qSo"
   },
   "source": [
    "**Bài 3:** Mở file Ex3.py và hoàn thành đoạn code để lấy được các email có trong chuỗi đó (chỉ lấy phần ở trước ký tự '@' và ký tự '@'). Kết quả sau khi chạy sẽ như sau:\n",
    "\n",
    "```['franky@', 'sinatra123@']```"
   ]
  },
  {
   "cell_type": "code",
   "execution_count": 27,
   "metadata": {
    "id": "lHVLLZbD9uLd"
   },
   "outputs": [
    {
     "name": "stdout",
     "output_type": "stream",
     "text": [
      "['franky@', 'sinatra123@']\n"
     ]
    }
   ],
   "source": [
    "str='The advancements in biomarine studies franky@google.com, with the investments necessary and Davos sinatra123@yahoo.com Then The New Yorker article on wind farms...'\n",
    "#Type your answer here.\n",
    "\n",
    "regex= r'\\b[A-Za-z0-9._%+-]+@'\n",
    "emails=re.findall(regex, str)\n",
    "print(emails)\n",
    "with open('Ex3.py', 'a+') as testwritefile:\n",
    "    for i in emails:\n",
    "        testwritefile.write(i +\"\\n\" )       "
   ]
  },
  {
   "cell_type": "markdown",
   "metadata": {
    "id": "xx9_iNUR9xiO"
   },
   "source": [
    "**Bài 4:** Mở file Ex4.py và hoàn thành đoạn code tương tự như bài 3, nhưng lần này không lấy ký tự '@' nữa. Kết quả sau khi chạy sẽ như sau:\n",
    "\n",
    "```['franky', 'sinatra123']```"
   ]
  },
  {
   "cell_type": "code",
   "execution_count": 30,
   "metadata": {
    "id": "8WsgQ_e_9zmA"
   },
   "outputs": [
    {
     "name": "stdout",
     "output_type": "stream",
     "text": [
      "['franky', 'sinatra123']\n"
     ]
    }
   ],
   "source": [
    "str='The advancements in biomarine studies franky@google.com, with the investments necessary and Davos sinatra123@yahoo.com Then The New Yorker article on wind farms...'\n",
    "#Type your answer here.\n",
    "\n",
    "regex=r'\\b\\w+(?=@)'\n",
    "emails=re.findall(regex, str)\n",
    "print(emails)\n",
    "with open('Ex4.py', 'a+') as testwritefile:\n",
    "    for i in emails:\n",
    "        testwritefile.write(i +\"\\n\" )     "
   ]
  },
  {
   "cell_type": "markdown",
   "metadata": {
    "id": "xBfFDQj290NH"
   },
   "source": [
    "**Bài 5:** Mở file Ex5.py và hoàn thành đoạn code để trích xuất những từ có đúng 8 ký tự từ chuỗi. Kết quả sau khi chạy sẽ như sau:\n",
    "\n",
    "```['empourpr', 'palmiers']```"
   ]
  },
  {
   "cell_type": "code",
   "execution_count": 43,
   "metadata": {
    "id": "rNmIkjkD91iw"
   },
   "outputs": [
    {
     "name": "stdout",
     "output_type": "stream",
     "text": [
      "['empourpr', 'palmiers']\n"
     ]
    }
   ],
   "source": [
    "str='''Au pays parfume que le soleil caresse,\n",
    "J'ai connu, sous un dais d'arbres tout empourpr\n",
    "Et de palmiers d'ou pleut sur les yeux la paresse,\n",
    "Une dame creole aux charmes ignores.'''\n",
    "\n",
    "#Type your answer here.\n",
    "\n",
    "regex=r'\\b\\w{8}\\b'\n",
    "emails=re.findall(regex, str)\n",
    "print(emails)\n",
    "with open('Ex5.py', 'a+') as testwritefile:\n",
    "    for i in emails:\n",
    "        testwritefile.write(i +\"\\n\" )     \n"
   ]
  },
  {
   "cell_type": "markdown",
   "metadata": {
    "id": "GiFkhhzC94QV"
   },
   "source": [
    "**Bài 6:** Mở file Ex6.py và hoàn thành đoạn code để trích xuất những số bắt đầu với '212'. Kết quả sau khi chạy sẽ như sau:\n",
    "\n",
    "```['21299']```"
   ]
  },
  {
   "cell_type": "code",
   "execution_count": 42,
   "metadata": {
    "id": "oEUHThqV95as"
   },
   "outputs": [
    {
     "name": "stdout",
     "output_type": "stream",
     "text": [
      "['212-111-5932']\n"
     ]
    }
   ],
   "source": [
    "str='''Ancient Script 21299 : The Takenouchi documents are the ancient historical records that have been secretly preserved and passed down from generation to generation by the Takenouchi family, the head of family being the chief priest of the Koso Kotai Jingu shrine. 212-111-5932 '''\n",
    "\n",
    "#Type your answer here.\n",
    "\n",
    "regex = r'\\b212-\\d{3}-\\d{4}\\b|\\b212\\d{7}\\b'\n",
    "data = re.findall(regex, str)\n",
    "print(data)\n",
    "with open('Ex6.py', 'a+') as testwritefile:\n",
    "    for i in emails:\n",
    "        testwritefile.write(i +\"\\n\" )     "
   ]
  },
  {
   "cell_type": "markdown",
   "metadata": {
    "id": "Xfenx7DG97G-"
   },
   "source": [
    "**Bài 7: **Mở file Ex7.py và hoàn thành đoạn code theo yêu cầu sau. Bạn được cung cấp giá cổ phiếu cho các mã tài chính liên quan. (Biểu tượng đại diện cho các công ty trên thị trường chứng khoán). Tìm cách trích xuất các mã được đề cập trong báo cáo. tức là: TSLA, NFLX ... Kết quả sau khi chạy sẽ như sau:\n",
    "\n",
    "```['TSLA', 'ORCL', 'GE', 'MSFT', 'BIDU']```"
   ]
  },
  {
   "cell_type": "code",
   "execution_count": 44,
   "metadata": {
    "id": "LAcjISes98bK"
   },
   "outputs": [
    {
     "name": "stdout",
     "output_type": "stream",
     "text": [
      "['TSLA', 'ORCL', 'GE', 'MSFT', 'BIDU']\n"
     ]
    }
   ],
   "source": [
    "str=\"\"\"Some of the prices were as following TSLA:749.50, ORCL: 50.50, GE: 10.90, MSFT: 170.50, BIDU: 121.40. As the macroeconomic developments continue we will update the prices. \"\"\"\n",
    "\n",
    "#Type your answer here.\n",
    "\n",
    "regex= r'\\b[A-Z]{2,5}\\b'\n",
    "data=re.findall(regex, str)\n",
    "with open('Ex7.py', 'a+') as testwritefile:\n",
    "    for i in emails:\n",
    "        testwritefile.write(i +\"\\n\" )     \n",
    "\n",
    "print(data)"
   ]
  },
  {
   "cell_type": "markdown",
   "metadata": {
    "id": "2TpFXGtY-BNM"
   },
   "source": [
    "**Bài 8:** Mở file Ex8.py và hoàn thành đoạn code để trích xuất các thẻ html có nhiều hơn 4 chữ cái. Các thẻ html mở có thể được tìm thấy bên trong các ký tự <> và các thẻ html đóng có thể được tìm thấy ở cùng một định dạng sau ký tự </>, ví dụ <param> </param>. Kết quả sau khi chạy sẽ như sau:\n",
    "\n",
    "```['video', 'center', 'button']```"
   ]
  },
  {
   "cell_type": "code",
   "execution_count": 45,
   "metadata": {
    "id": "osCy5Ezy-CWh"
   },
   "outputs": [
    {
     "name": "stdout",
     "output_type": "stream",
     "text": [
      "['video', 'center', 'button']\n"
     ]
    }
   ],
   "source": [
    "str=\"\"\"<div class=\"tut-list tut-list-new tut-row \">\n",
    "<div class=\"tut-list-primary\"> <div class=\"tut-vote\">\n",
    "<video>intro</video>\n",
    "<span class=\"count\">50</span> <span class=\"tut-upvotes-text hidden\">Upvotes</span> </a> </div>\n",
    "<center>k=\"11\" rel=\"nofollow\"></center>\n",
    "<span class=\"tutorial-title-txt\">Automate the Boring Stuff with Python</span>\n",
    "<span class=\"tut-title-link\">  <span class=\"js-tutorial\" data-id=\"3529\"\n",
    "title=\"Automate the Boring Stuff with Python\" target=\"_blank\">(udemy.com)</span>\n",
    "</span>  </a></div> <div class=\"action-footer\">\n",
    "<form class=\"save-tutorial-form\" method=\"post\" <button></button> </form>\"\"\"\n",
    "\n",
    "#Type your answer here.\n",
    "\n",
    "regex=r'<([a-zA-Z]{5,})[^>]*>.*?</\\1>'\n",
    "data=re.findall(regex, str)\n",
    "print(data)\n",
    "with open('Ex8.py', 'a+') as testwritefile:\n",
    "    for i in emails:\n",
    "        testwritefile.write(i +\"\\n\" )     "
   ]
  },
  {
   "cell_type": "code",
   "execution_count": null,
   "metadata": {},
   "outputs": [],
   "source": []
  }
 ],
 "metadata": {
  "colab": {
   "authorship_tag": "ABX9TyORujv7cbowWTMYBNwxRE5C",
   "provenance": []
  },
  "kernelspec": {
   "display_name": "Python 3 (ipykernel)",
   "language": "python",
   "name": "python3"
  },
  "language_info": {
   "codemirror_mode": {
    "name": "ipython",
    "version": 3
   },
   "file_extension": ".py",
   "mimetype": "text/x-python",
   "name": "python",
   "nbconvert_exporter": "python",
   "pygments_lexer": "ipython3",
   "version": "3.12.2"
  }
 },
 "nbformat": 4,
 "nbformat_minor": 4
}
