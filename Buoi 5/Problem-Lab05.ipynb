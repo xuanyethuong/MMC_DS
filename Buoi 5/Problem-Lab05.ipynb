{
 "cells": [
  {
   "cell_type": "markdown",
   "metadata": {
    "id": "jxgT4r6ovuvd"
   },
   "source": [
    "#Bài tập 1: Thao tác với ma trận  \n",
    "**Lý thuyết**:  \n",
    "NumPy cung cấp các công cụ mạnh mẽ để thao tác ma trận, bao gồm tính toán các định thức, tìm nghịch đảo và tính toán các giá trị riêng và vectơ riêng.\n",
    "  \n",
    "**Đề bài**:  \n",
    "Tạo ma trận 5x5 ngẫu nhiên và thực hiện các thao tác sau:  \n",
    "* Tính định thức (determinant) của ma trận.  \n",
    "* Tìm nghịch đảo (transpose) của ma trận.  \n",
    "* Tính các giá trị riêng (eigent value) và vectơ riêng (eigent vector) của ma trận.   \n",
    "(Phần này sẽ liên quan tới đại số tuyến tính, mọi người có thể tự tìm hiểu để hiểu chi tiết về các khái niệm trên)\n",
    "\n",
    "<details>\n",
    "  <summary>Hint</summary>\n",
    "\n",
    "```python\n",
    "import numpy as np\n",
    "\n",
    "# Generate a random 5x5 matrix\n",
    "matrix = np.random.rand(5, 5)\n",
    "\n",
    "# Compute determinant\n",
    "det = np.linalg.det(matrix)\n",
    "\n",
    "# Find inverse\n",
    "inverse = np.linalg.inv(matrix)\n",
    "\n",
    "# Calculate eigenvalues and eigenvectors\n",
    "eigenvalues, eigenvectors = np.linalg.eig(matrix)\n",
    "\n",
    "```\n",
    "</details>"
   ]
  },
  {
   "cell_type": "code",
   "execution_count": 16,
   "metadata": {
    "executionInfo": {
     "elapsed": 2,
     "status": "ok",
     "timestamp": 1711943184294,
     "user": {
      "displayName": "Nha Nguyen",
      "userId": "05581690424976052134"
     },
     "user_tz": -420
    },
    "id": "-SEd8zd9tBN8"
   },
   "outputs": [
    {
     "name": "stdout",
     "output_type": "stream",
     "text": [
      "Tạo ma trận 5x5 ngẫu nhiên\n",
      "[[0.89369607 0.36944756 0.19567107 0.31127199 0.42075591]\n",
      " [0.32457429 0.29694036 0.51201022 0.18283817 0.05848669]\n",
      " [0.5242718  0.79423528 0.57316278 0.18119348 0.74975592]\n",
      " [0.63702103 0.33133654 0.79827454 0.71092208 0.64951041]\n",
      " [0.68673564 0.19376685 0.1872194  0.2811952  0.48556628]]\n",
      " Định thức của ma trận:\n",
      "-0.016244537556616742\n",
      "\n",
      "Ma trận nghịch đảo của ma trận:\n",
      "[[-0.33588084  1.73069186 -0.64625374 -1.19063941  2.67309889]\n",
      " [ 4.40608411 -1.90482769  1.15762818  0.83260154 -6.48974401]\n",
      " [-3.82900859  3.35623934 -0.17213954 -0.85023912  4.31678349]\n",
      " [ 5.03376723 -3.62601115 -0.51133222  3.19747083 -7.41264448]\n",
      " [-2.7219728  -0.88179825  0.81452843 -0.17218711  3.49694678]]\n",
      "\n",
      "Các giá trị riêng của ma trận:\n",
      "[ 2.22051892+0.j         -0.20857359+0.j          0.25057461+0.12508122j\n",
      "  0.25057461-0.12508122j  0.44719302+0.j        ]\n",
      "\n",
      "Các vectơ riêng của ma trận:\n",
      "[[-0.40604129+0.j          0.24068224+0.j          0.29216582+0.12424948j\n",
      "   0.29216582-0.12424948j  0.35260336+0.j        ]\n",
      " [-0.26915354+0.j         -0.60905941+0.j         -0.36935359+0.1029753j\n",
      "  -0.36935359-0.1029753j  -0.61908398+0.j        ]\n",
      " [-0.48676196+0.j          0.61209722+0.j          0.04932102-0.16498386j\n",
      "   0.04932102+0.16498386j -0.37394785+0.j        ]\n",
      " [-0.63691589+0.j         -0.43980441+0.j         -0.75363508+0.j\n",
      "  -0.75363508-0.j         -0.25850205+0.j        ]\n",
      " [-0.34653685+0.j         -0.05502512+0.j          0.375401  -0.11675285j\n",
      "   0.375401  +0.11675285j  0.53455177+0.j        ]]\n"
     ]
    }
   ],
   "source": [
    "import numpy as np\n",
    "\n",
    "# Generate a random 5x5 matrix\n",
    "matrix = np.random.rand(5, 5)\n",
    "print(\"Tạo ma trận 5x5 ngẫu nhiên\")\n",
    "print (matrix)\n",
    "\n",
    "# Compute determinant\n",
    "det = np.linalg.det(matrix)\n",
    "print(\" Định thức của ma trận:\")\n",
    "print (det)\n",
    "\n",
    "# Find inverse\n",
    "inverse = np.linalg.inv(matrix)\n",
    "print(\"\\nMa trận nghịch đảo của ma trận:\")\n",
    "print (inverse)\n",
    "\n",
    "# Calculate eigenvalues and eigenvectors\n",
    "eigenvalues, eigenvectors = np.linalg.eig(matrix)\n",
    "print(\"\\nCác giá trị riêng của ma trận:\")\n",
    "print(eigenvalues)\n",
    "print(\"\\nCác vectơ riêng của ma trận:\")\n",
    "print(eigenvectors)\n"
   ]
  },
  {
   "cell_type": "markdown",
   "metadata": {
    "id": "j5y16Eqkxd_o"
   },
   "source": [
    "# Bài tập 2: Optimization\n",
    "**Lý thuyết:**  \n",
    "Gradient descent là một thuật toán tối ưu hóa được sử dụng để cực tiểu hóa hàm bằng cách di chuyển lặp đi lặp lại theo hướng dốc xuống.\n",
    "\n",
    "**Đề bài:**  \n",
    "Triển khai gradient descent sử dụng NumPy để tối ưu hàm số sau:\n",
    " $$ f(x) = x^2 + 5 \\sin(x) $$\n",
    "<details>\n",
    "  <summary>Hint</summary>\n",
    "\n",
    "```python\n",
    "import numpy as np\n",
    "\n",
    "def gradient_descent(x, learning_rate, iterations):\n",
    "    for _ in range(iterations):\n",
    "        gradient = 2*x + 5*np.cos(x)  # Đạo hàm riêng theo x\n",
    "        x = x - learning_rate * gradient # Cập nhật tham số\n",
    "    return x\n",
    "\n",
    "# Khởi tạo các hyperparameters\n",
    "x_initial = 5  # Input đầu vào\n",
    "learning_rate = 0.1 # Tốc độ học\n",
    "iterations = 100 # Số lần lặp\n",
    "\n",
    "# Run gradient descent\n",
    "minima = gradient_descent(x_initial, learning_rate, iterations)\n",
    "```\n",
    "\n",
    "</details>"
   ]
  },
  {
   "cell_type": "code",
   "execution_count": 17,
   "metadata": {
    "executionInfo": {
     "elapsed": 2,
     "status": "ok",
     "timestamp": 1711943686064,
     "user": {
      "displayName": "Nha Nguyen",
      "userId": "05581690424976052134"
     },
     "user_tz": -420
    },
    "id": "s3Q3kOnuwxxW"
   },
   "outputs": [
    {
     "name": "stdout",
     "output_type": "stream",
     "text": [
      "Giá trị của x tối ưu: -1.110510503581112\n"
     ]
    }
   ],
   "source": [
    "# Your code here\n",
    "import numpy as np\n",
    "def gradient_descent(x, learning_rate, iterations):\n",
    "    for _ in range(iterations):\n",
    "        gradient = 2*x + 5*np.cos(x)  # Đạo hàm riêng theo x\n",
    "        x = x - learning_rate * gradient # Cập nhật tham số\n",
    "    return x\n",
    "\n",
    "# Khởi tạo các hyperparameters\n",
    "x_initial = 5  # Input đầu vào\n",
    "learning_rate = 0.1 # Tốc độ học\n",
    "iterations = 100 # Số lần lặp\n",
    "\n",
    "# Run gradient descent\n",
    "minima = gradient_descent(x_initial, learning_rate, iterations)\n",
    "print(\"Giá trị của x tối ưu:\", minima)\n"
   ]
  },
  {
   "cell_type": "markdown",
   "metadata": {
    "id": "r9TwMgo-y5tm"
   },
   "source": [
    "# Bài tập 3: Phân tích thống kê  \n",
    "**Lý thuyết**:  \n",
    "NumPy cung cấp các chức năng để phân tích thống kê, bao gồm tính toán giá trị trung bình (mean), trung vị (median), độ lệch chuẩn (standard deviation) và mối tương quan (correlation).  \n",
    "\n",
    "**Đề Bài**:  \n",
    "Thực hiện phân tích thống kê trên tập dữ liệu bai3.csv bằng NumPy:  \n",
    "* Tính giá trị trung bình, trung vị và độ lệch chuẩn của tập dữ liệu.\n",
    "* Tính toán ma trận tương quan giữa các biến khác nhau.\n",
    "* Xác định các ngoại lệ trong tập dữ liệu bằng cách sử dụng điểm z.\n",
    "\n",
    "<details>\n",
    "  <summary>Hint</summary>\n",
    "\n",
    "```python\n",
    "  # Load dataset\n",
    "  data = np.loadtxt('dataset.csv', delimiter=',')\n",
    "\n",
    "  # Calculate mean, median, and standard deviation\n",
    "  mean = np.mean(data, axis=0)\n",
    "  median = np.median(data, axis=0)\n",
    "  std_dev = np.std(data, axis=0)\n",
    "\n",
    "  # Compute correlation matrix\n",
    "  correlation_matrix = np.corrcoef(data, rowvar=False)\n",
    "\n",
    "  # Identify outliers using z-scores\n",
    "  z_scores = np.abs((data - mean) / std_dev)\n",
    "  outliers = np.where(z_scores > 3)\n",
    "```\n",
    "</details>"
   ]
  },
  {
   "cell_type": "code",
   "execution_count": 29,
   "metadata": {
    "id": "KjYxequp1pld"
   },
   "outputs": [
    {
     "name": "stdout",
     "output_type": "stream",
     "text": [
      "Mean:\n",
      "[3.42 3.82 6.48 2.72 7.32]\n",
      "median:\n",
      "[3.1 3.8 6.7 2.6 7.1]\n",
      "std_dev:\n",
      "[1.56639714 0.59799666 1.25443214 0.75736385 1.32272446]\n",
      " correlation matrix\n",
      "[[1.         0.47784764 0.89183434 0.61500461 0.94868903]\n",
      " [0.47784764 1.         0.81104187 0.97063145 0.71505798]\n",
      " [0.89183434 0.81104187 1.         0.88457426 0.98139657]\n",
      " [0.61500461 0.97063145 0.88457426 1.         0.79617986]\n",
      " [0.94868903 0.71505798 0.98139657 0.79617986 1.        ]]\n",
      " z_scores:\n",
      "[[1.4172651  0.53512005 1.3392514  0.81862899 1.30034641]\n",
      " [0.58733509 0.80268007 0.17537816 0.63377728 0.16632338]\n",
      " [0.20429046 1.53847014 0.86094733 1.21473979 0.77113566]\n",
      " [0.81716186 0.033445   0.57396488 0.15844432 0.81649658]\n",
      " [1.39172879 1.30435512 1.45085568 1.55803581 1.42130886]]\n"
     ]
    }
   ],
   "source": [
    "# Your code here\n",
    "# Load dataset\n",
    "data = np.loadtxt('bai3.csv', delimiter=',', skiprows=1)\n",
    "\n",
    "# Calculate mean, median, and standard deviation\n",
    "mean = np.mean(data, axis=0)\n",
    "print(\"Mean:\")\n",
    "print(mean)\n",
    "median = np.median(data, axis=0)\n",
    "print(\"median:\")\n",
    "print(median)\n",
    "std_dev = np.std(data, axis=0)\n",
    "print(\"std_dev:\")\n",
    "print(std_dev)\n",
    "\n",
    "# Compute correlation matrix\n",
    "correlation_matrix = np.corrcoef(data, rowvar=False)\n",
    "print(\" correlation matrix\")\n",
    "print(correlation_matrix)\n",
    "\n",
    "# Identify outliers using z-scores\n",
    "z_scores = np.abs((data - mean) / std_dev)\n",
    "print(\" z_scores:\")\n",
    "print(z_scores)\n",
    "outliers = np.where(z_scores > 3)"
   ]
  },
  {
   "cell_type": "markdown",
   "metadata": {
    "id": "ZX1eKlF805bM"
   },
   "source": [
    "# Bài 4: Thao tác với tensor\n",
    "Đề cho một tensor đại diện cho một hình ảnh thang độ xám. Thực hiện các thao tác sau:\n",
    "\n",
    "1. Reshape: Reshape tensor thành một hình dạng khác trong khi vẫn đảm bảo tổng số phần tử không đổi.\n",
    "2. Transpose: Transpose tensor dọc theo các trục được chỉ định.\n",
    "3. Slice: Trích xuất một tập hợp con của tensor bằng cách cắt dọc theo các kích thước được chỉ định.\n",
    "4. Concatenate: Concatenate nhiều tensor dọc theo các trục được chỉ định.\n",
    "5. Các phép toán theo phần tử: Thực hiện các phép toán theo phần tử như cộng, trừ, nhân và chia với các giá trị vô hướng hoặc các tensor khác.\n",
    "6. Hoạt động rút gọn: Thực hiện các hoạt động rút gọn như tính tổng, trung bình, tối thiểu và tối đa dọc theo các trục được chỉ định.\n",
    "7. Indexing: Truy cập các phần tử riêng lẻ hoặc các tensor phụ bằng cách sử dụng các chỉ số nguyên hoặc boolean mark.\n",
    "\n",
    "<details>\n",
    "  <summary>Hint</summary>\n",
    "\n",
    "  ```python\n",
    "    # 1. Reshape the tensor\n",
    "    reshaped_tensor = image_tensor.reshape(1, 9)\n",
    "\n",
    "    # 2. Transpose the tensor\n",
    "    transposed_tensor = image_tensor.T\n",
    "\n",
    "    # 3. Slice the tensor\n",
    "    sliced_tensor = image_tensor[:2, :2]\n",
    "\n",
    "    # 4. Concatenate tensors\n",
    "    concatenated_tensor = np.concatenate((image_tensor, image_tensor), axis=0)\n",
    "\n",
    "    # 5. Element-wise operations\n",
    "    added_tensor = image_tensor + 0.1\n",
    "    multiplied_tensor = image_tensor * 2\n",
    "\n",
    "    # 6. Reduction operations\n",
    "    sum_tensor = np.sum(image_tensor)\n",
    "    mean_tensor = np.mean(image_tensor, axis=0)\n",
    "    max_tensor = np.max(image_tensor, axis=1)\n",
    "\n",
    "    # 7. Indexing\n",
    "    element = image_tensor[1, 2]\n",
    "  ```\n",
    "</details>"
   ]
  },
  {
   "cell_type": "code",
   "execution_count": 30,
   "metadata": {
    "executionInfo": {
     "elapsed": 2,
     "status": "ok",
     "timestamp": 1711944428036,
     "user": {
      "displayName": "Nha Nguyen",
      "userId": "05581690424976052134"
     },
     "user_tz": -420
    },
    "id": "sKx_zUMw041d"
   },
   "outputs": [],
   "source": [
    "image_tensor = np.array([\n",
    "    [0.1, 0.2, 0.3],\n",
    "    [0.4, 0.5, 0.6],\n",
    "    [0.7, 0.8, 0.9]\n",
    "])"
   ]
  },
  {
   "cell_type": "code",
   "execution_count": 34,
   "metadata": {
    "id": "aDy3tPzby5RN"
   },
   "outputs": [
    {
     "name": "stdout",
     "output_type": "stream",
     "text": [
      "[[0.1 0.2 0.3 0.4 0.5 0.6 0.7 0.8 0.9]]\n",
      "[[0.1 0.4 0.7]\n",
      " [0.2 0.5 0.8]\n",
      " [0.3 0.6 0.9]]\n",
      "[[0.1 0.2]\n",
      " [0.4 0.5]]\n",
      "[[0.1 0.2 0.3]\n",
      " [0.4 0.5 0.6]\n",
      " [0.7 0.8 0.9]\n",
      " [0.1 0.2 0.3]\n",
      " [0.4 0.5 0.6]\n",
      " [0.7 0.8 0.9]]\n"
     ]
    }
   ],
   "source": [
    "# your code here\n",
    " # 1. Reshape the tensor\n",
    "reshaped_tensor = image_tensor.reshape(1, 9)\n",
    "print(reshaped_tensor)\n",
    "\n",
    "  # 2. Transpose the tensor\n",
    "transposed_tensor = image_tensor.T\n",
    "print(transposed_tensor)\n",
    "  # 3. Slice the tensor\n",
    "sliced_tensor = image_tensor[:2, :2]\n",
    "print(sliced_tensor )\n",
    "  # 4. Concatenate tensors\n",
    "concatenated_tensor = np.concatenate((image_tensor, image_tensor), axis=0)\n",
    "print(concatenated_tensor)\n",
    "  # 5. Element-wise operations\n",
    "added_tensor = image_tensor + 0.1\n",
    "multiplied_tensor = image_tensor * 2\n",
    "\n",
    "  # 6. Reduction operations\n",
    "sum_tensor = np.sum(image_tensor)\n",
    "mean_tensor = np.mean(image_tensor, axis=0)\n",
    "max_tensor = np.max(image_tensor, axis=1)\n",
    "\n",
    "  # 7. Indexing\n",
    "element = image_tensor[1, 2]\n"
   ]
  },
  {
   "cell_type": "code",
   "execution_count": null,
   "metadata": {},
   "outputs": [],
   "source": []
  }
 ],
 "metadata": {
  "colab": {
   "authorship_tag": "ABX9TyMk1q12/N28maJwPQwRv9wn",
   "provenance": []
  },
  "kernelspec": {
   "display_name": "Python 3 (ipykernel)",
   "language": "python",
   "name": "python3"
  },
  "language_info": {
   "codemirror_mode": {
    "name": "ipython",
    "version": 3
   },
   "file_extension": ".py",
   "mimetype": "text/x-python",
   "name": "python",
   "nbconvert_exporter": "python",
   "pygments_lexer": "ipython3",
   "version": "3.12.2"
  }
 },
 "nbformat": 4,
 "nbformat_minor": 4
}
