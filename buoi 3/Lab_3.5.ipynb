{
 "cells": [
  {
   "cell_type": "markdown",
   "metadata": {
    "id": "YGWz73_h2lRF"
   },
   "source": [
    "## Bài 1: Trùng lặp (list+set or list+dict) [link](https://leetcode.com/problems/contains-duplicate/)\n",
    "Cho một mảng số nguyên nums, trả về True nếu bất kỳ giá trị nào xuất hiện ít nhất hai lần trong mảng và trả về false nếu mọi phần tử đều khác biệt.  \n",
    "```\n",
    "Example 1:\n",
    "Input: nums = [1,2,3,1]\n",
    "Output: true\n",
    "\n",
    "Example 2:\n",
    "Input: nums = [1,2,3,4]\n",
    "Output: false\n",
    "\n",
    "Example 3:\n",
    "Input: nums = [1,1,1,3,3,4,3,2,4,2]\n",
    "Output: true\n",
    "```"
   ]
  },
  {
   "cell_type": "code",
   "execution_count": 1,
   "metadata": {
    "id": "AZ5MT_3z2evo"
   },
   "outputs": [
    {
     "name": "stdout",
     "output_type": "stream",
     "text": [
      "True\n",
      "False\n",
      "True\n"
     ]
    }
   ],
   "source": [
    "# Pass your code here\n",
    "def containsDuplicate(nums):\n",
    "    num_count = {}\n",
    "    for num in nums:\n",
    "        if num in num_count:\n",
    "            num_count[num] += 1\n",
    "        else:\n",
    "            num_count[num] = 1\n",
    "    for count in num_count.values():\n",
    "        if count >= 2:\n",
    "            return True\n",
    "    return False\n",
    "\n",
    "# Example 1\n",
    "nums1 = [1, 2, 3, 1]\n",
    "print(containsDuplicate(nums1))  # Output: True\n",
    "\n",
    "# Example 2\n",
    "nums2 = [1, 2, 3, 4]\n",
    "print(containsDuplicate(nums2))  # Output: False\n",
    "\n",
    "# Example 3\n",
    "nums3 = [1, 1, 1, 3, 3, 4, 3, 2, 4, 2]\n",
    "print(containsDuplicate(nums3))  # Output: True"
   ]
  },
  {
   "cell_type": "markdown",
   "metadata": {
    "id": "Y3_k1qYi3tJ5"
   },
   "source": [
    "## Bài 2: Đảo chữ nhóm (list+dict) [Link](https://leetcode.com/problems/group-anagrams/description/)\n",
    "Cho một mảng các chuỗi strs, hãy nhóm các đảo chữ cái lại với nhau. Bạn có thể trả lời câu trả lời theo bất kỳ thứ tự nào.\n",
    "\n",
    "Đảo chữ là một từ hoặc cụm từ được hình thành bằng cách sắp xếp lại các chữ cái của một từ hoặc cụm từ khác, thường sử dụng tất cả các chữ cái gốc chính xác một lần.\n",
    "\n",
    "```\n",
    "Example 1:\n",
    "Input: strs = [\"eat\",\"tea\",\"tan\",\"ate\",\"nat\",\"bat\"]\n",
    "Output: [[\"bat\"],[\"nat\",\"tan\"],[\"ate\",\"eat\",\"tea\"]]\n",
    "\n",
    "Example 2:\n",
    "Input: strs = [\"\"]\n",
    "Output: [[\"\"]]\n",
    "\n",
    "Example 3:\n",
    "Input: strs = [\"a\"]\n",
    "Output: [[\"a\"]]\n",
    "```"
   ]
  },
  {
   "cell_type": "code",
   "execution_count": 2,
   "metadata": {
    "id": "9BoWv8lHz3-z"
   },
   "outputs": [
    {
     "name": "stdout",
     "output_type": "stream",
     "text": [
      "[['eat', 'tea', 'ate'], ['tan', 'nat'], ['bat']]\n",
      "[['']]\n",
      "[['a']]\n"
     ]
    }
   ],
   "source": [
    "# Pass your code here\n",
    "def groupAnagrams(strs):\n",
    "    anagrams = {}\n",
    "    for word in strs:\n",
    "        sorted_word = ''.join(sorted(word))\n",
    "        if sorted_word in anagrams:\n",
    "            anagrams[sorted_word].append(word)\n",
    "        else:\n",
    "            anagrams[sorted_word] = [word]\n",
    "    return list(anagrams.values())\n",
    "\n",
    "# Example 1\n",
    "strs1 = [\"eat\", \"tea\", \"tan\", \"ate\", \"nat\", \"bat\"]\n",
    "print(groupAnagrams(strs1))\n",
    "# Output: [[\"eat\", \"tea\", \"ate\"], [\"tan\", \"nat\"], [\"bat\"]]\n",
    "\n",
    "# Example 2\n",
    "strs2 = [\"\"]\n",
    "print(groupAnagrams(strs2))\n",
    "# Output: [[\"\"]]\n",
    "\n",
    "# Example 3\n",
    "strs3 = [\"a\"]\n",
    "print(groupAnagrams(strs3))\n",
    "# Output: [[\"a\"]]"
   ]
  },
  {
   "cell_type": "markdown",
   "metadata": {
    "id": "_85Svydr4B7I"
   },
   "source": [
    "## Bài 3: Tổng 2 số (list+set or list+dict) [Link](https://leetcode.com/problems/two-sum/description/)\n",
    "Cho một mảng các số nguyên nums và một số nguyên đích target, trả về chỉ số của hai số sao cho tổng của chúng = target.\n",
    "\n",
    "Bạn có thể giả định rằng mỗi đầu vào sẽ có chính xác một giải pháp và bạn không được sử dụng cùng một phần tử hai lần.\n",
    "\n",
    "Bạn có thể trả lời câu trả lời theo bất kỳ thứ tự nào.\n",
    "\n",
    "```\n",
    "Example 1:\n",
    "Input: nums = [2,7,11,15], target = 9\n",
    "Output: [0,1]\n",
    "Explanation: Because nums[0] + nums[1] == 9, we return [0, 1].\n",
    "\n",
    "Example 2:\n",
    "Input: nums = [3,2,4], target = 6\n",
    "Output: [1,2]\n",
    "\n",
    "Example 3:\n",
    "Input: nums = [3,3], target = 6\n",
    "Output: [0,1]\n",
    "```"
   ]
  },
  {
   "cell_type": "code",
   "execution_count": 3,
   "metadata": {
    "id": "Z7Yu2Eqr1Kih"
   },
   "outputs": [
    {
     "name": "stdout",
     "output_type": "stream",
     "text": [
      "[0, 1]\n",
      "[1, 2]\n",
      "[0, 1]\n"
     ]
    }
   ],
   "source": [
    "# Pass your code here\n",
    "def twoSum(nums, target):\n",
    "    num_map = {}\n",
    "    for i, num in enumerate(nums):\n",
    "        complement = target - num\n",
    "        if complement in num_map:\n",
    "            return [num_map[complement], i]\n",
    "        num_map[num] = i\n",
    "\n",
    "# Example 1\n",
    "nums1 = [2, 7, 11, 15]\n",
    "target1 = 9\n",
    "print(twoSum(nums1, target1))  # Output: [0, 1]\n",
    "\n",
    "# Example 2\n",
    "nums2 = [3, 2, 4]\n",
    "target2 = 6\n",
    "print(twoSum(nums2, target2))  # Output: [1, 2]\n",
    "\n",
    "# Example 3\n",
    "nums3 = [3, 3]\n",
    "target3 = 6\n",
    "print(twoSum(nums3, target3))  # Output: [0, 1]"
   ]
  },
  {
   "cell_type": "code",
   "execution_count": null,
   "metadata": {},
   "outputs": [],
   "source": []
  }
 ],
 "metadata": {
  "colab": {
   "authorship_tag": "ABX9TyNRqiCYRwsz0dHqJOOHvfiX",
   "provenance": []
  },
  "kernelspec": {
   "display_name": "Python 3 (ipykernel)",
   "language": "python",
   "name": "python3"
  },
  "language_info": {
   "codemirror_mode": {
    "name": "ipython",
    "version": 3
   },
   "file_extension": ".py",
   "mimetype": "text/x-python",
   "name": "python",
   "nbconvert_exporter": "python",
   "pygments_lexer": "ipython3",
   "version": "3.12.2"
  }
 },
 "nbformat": 4,
 "nbformat_minor": 4
}
